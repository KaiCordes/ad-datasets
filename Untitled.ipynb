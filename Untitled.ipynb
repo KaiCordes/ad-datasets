{
 "cells": [
  {
   "cell_type": "code",
   "execution_count": 240,
   "id": "d4c68c4e-57b6-4b0e-b5ad-655994f9f847",
   "metadata": {},
   "outputs": [],
   "source": [
    "import matplotlib.pyplot as plt\n",
    "import pandas as pd\n",
    "import numpy as np"
   ]
  },
  {
   "cell_type": "code",
   "execution_count": 304,
   "id": "0f3b2209-16be-4bfa-8d4f-b61b91e4e446",
   "metadata": {},
   "outputs": [
    {
     "data": {
      "text/html": [
       "<div>\n",
       "<style scoped>\n",
       "    .dataframe tbody tr th:only-of-type {\n",
       "        vertical-align: middle;\n",
       "    }\n",
       "\n",
       "    .dataframe tbody tr th {\n",
       "        vertical-align: top;\n",
       "    }\n",
       "\n",
       "    .dataframe thead th {\n",
       "        text-align: right;\n",
       "    }\n",
       "</style>\n",
       "<table border=\"1\" class=\"dataframe\">\n",
       "  <thead>\n",
       "    <tr style=\"text-align: right;\">\n",
       "      <th></th>\n",
       "      <th>Name</th>\n",
       "      <th>Size [h]</th>\n",
       "      <th>Size [GB]</th>\n",
       "      <th>Frames</th>\n",
       "      <th>N° Scenes</th>\n",
       "      <th>Sampling Rate [Hz]</th>\n",
       "      <th>Scene Length [s]</th>\n",
       "      <th>Sensortypes</th>\n",
       "      <th>Publish Date</th>\n",
       "    </tr>\n",
       "  </thead>\n",
       "  <tbody>\n",
       "    <tr>\n",
       "      <th>0</th>\n",
       "      <td>Cityscapes 3D</td>\n",
       "      <td></td>\n",
       "      <td>63.141</td>\n",
       "      <td></td>\n",
       "      <td></td>\n",
       "      <td>17</td>\n",
       "      <td>1.8</td>\n",
       "      <td>camera, gps, thermometer</td>\n",
       "      <td>2016.02</td>\n",
       "    </tr>\n",
       "    <tr>\n",
       "      <th>1</th>\n",
       "      <td>ApolloScape</td>\n",
       "      <td>100</td>\n",
       "      <td></td>\n",
       "      <td>143,906</td>\n",
       "      <td></td>\n",
       "      <td>30</td>\n",
       "      <td></td>\n",
       "      <td>camera, lidar, imu/gnss</td>\n",
       "      <td>2018.03</td>\n",
       "    </tr>\n",
       "  </tbody>\n",
       "</table>\n",
       "</div>"
      ],
      "text/plain": [
       "            Name Size [h] Size [GB]   Frames N° Scenes Sampling Rate [Hz]  \\\n",
       "0  Cityscapes 3D             63.141                                    17   \n",
       "1    ApolloScape      100            143,906                           30   \n",
       "\n",
       "  Scene Length [s]               Sensortypes Publish Date  \n",
       "0              1.8  camera, gps, thermometer      2016.02  \n",
       "1                    camera, lidar, imu/gnss      2018.03  "
      ]
     },
     "execution_count": 304,
     "metadata": {},
     "output_type": "execute_result"
    }
   ],
   "source": [
    "data=pd.read_csv(\"adDatasets.csv\")\n",
    "data=data[0:40]\n",
    "data=data.drop(columns=['Sensors - Details', 'Benchmark', 'Annotations', 'Licensing', 'Related Datasets', 'Related Paper', 'Last Update'])\n",
    "data=data.fillna(\"\")\n",
    "data[:2]"
   ]
  },
  {
   "cell_type": "code",
   "execution_count": 311,
   "id": "9822e641-9985-4355-b328-a37a213f7f65",
   "metadata": {},
   "outputs": [],
   "source": [
    "data['Publish Date'] = pd.to_datetime(data['Publish Date']).dt.strftime('%Y/%m')\n",
    "data\n",
    "\n",
    "for col in ['Size [h]','Size [GB]', 'Frames', 'Sampling Rate [Hz]', 'Scene Length [s]', 'N° Scenes']:\n",
    "    data[col] = pd.to_numeric(data[col].apply(lambda x: re.sub(',', '', str(x))))\n"
   ]
  },
  {
   "cell_type": "code",
   "execution_count": 319,
   "id": "85233ca6-9c31-47ca-a8a2-e21279a31ad8",
   "metadata": {},
   "outputs": [
    {
     "data": {
      "text/plain": [
       "Name                   object\n",
       "Size [h]              float64\n",
       "Size [GB]             float64\n",
       "Frames                float64\n",
       "N° Scenes             float64\n",
       "Sampling Rate [Hz]    float64\n",
       "Scene Length [s]      float64\n",
       "Sensortypes            object\n",
       "Publish Date           object\n",
       "dtype: object"
      ]
     },
     "execution_count": 319,
     "metadata": {},
     "output_type": "execute_result"
    }
   ],
   "source": [
    "data.dtypes"
   ]
  },
  {
   "cell_type": "code",
   "execution_count": 314,
   "id": "cedb9e92-a593-4b85-87a4-ba735960ee31",
   "metadata": {
    "tags": []
   },
   "outputs": [
    {
     "data": {
      "image/png": "[encoded data removed]",
      "text/plain": [
       "<Figure size 432x288 with 1 Axes>"
      ]
     },
     "metadata": {
      "needs_background": "light"
     },
     "output_type": "display_data"
    }
   ],
   "source": [
    "fig,ax = plt.subplots()\n",
    "plt.scatter(data['Publish Date'], data['Size [h]'])\n",
    "plt.show()"
   ]
  },
  {
   "cell_type": "code",
   "execution_count": null,
   "id": "0331727a-5c6f-4d92-b29a-c8f8dbe36b95",
   "metadata": {},
   "outputs": [],
   "source": []
  },
  {
   "cell_type": "code",
   "execution_count": null,
   "id": "12bd5d3c-7613-4729-b3b6-906eecd5c09b",
   "metadata": {},
   "outputs": [],
   "source": []
  }
 ],
 "metadata": {
  "kernelspec": {
   "display_name": "AISS_env",
   "language": "python",
   "name": "aiss_env"
  },
  "language_info": {
   "codemirror_mode": {
    "name": "ipython",
    "version": 3
   },
   "file_extension": ".py",
   "mimetype": "text/x-python",
   "name": "python",
   "nbconvert_exporter": "python",
   "pygments_lexer": "ipython3",
   "version": "3.7.1"
  }
 },
 "nbformat": 4,
 "nbformat_minor": 5
}
